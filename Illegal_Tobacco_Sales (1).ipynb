{
 "cells": [
  {
   "cell_type": "markdown",
   "metadata": {},
   "source": [
    "## Name: Frenel Cherubin\n",
    "\n",
    "## Date: 11/16/2019\n",
    "\n",
    "## Course: DSC 530 Final Project"
   ]
  },
  {
   "cell_type": "code",
   "execution_count": 1,
   "metadata": {},
   "outputs": [
    {
     "name": "stdout",
     "output_type": "stream",
     "text": [
      "Column headers are YEAR__ PERCENT__ SE__ LOWER95__ UPPER95\n",
      "\tin year 1997 percent is, 21.7 with SE 1.9 and lower and upper confidence intervals as: 1.917.9.\n",
      "\tin year 1998 percent is, 13.1 with SE 1.6 and lower and upper confidence intervals as: 1.610.\n",
      "\tin year 1999 percent is, 16.9 with SE 1.8 and lower and upper confidence intervals as: 1.813.5.\n",
      "\tin year 2000 percent is, 12.5 with SE 1.3 and lower and upper confidence intervals as: 1.310.1.\n",
      "\tin year 2001 percent is, 17.1 with SE 1.5 and lower and upper confidence intervals as: 1.514.2.\n",
      "\tin year 2002 percent is, 19.3 with SE 1.6 and lower and upper confidence intervals as: 1.616.2.\n",
      "\tin year 2003 percent is, 12.2 with SE 1.7 and lower and upper confidence intervals as: 1.78.9.\n",
      "\tin year 2004 percent is, 14 with SE 1.3 and lower and upper confidence intervals as: 1.311.5.\n",
      "\tin year 2005 percent is, 10.2 with SE 1.1 and lower and upper confidence intervals as: 1.18.\n",
      "\tin year 2006 percent is, 13.2 with SE 1.3 and lower and upper confidence intervals as: 1.310.6.\n",
      "\tin year 2007 percent is, 10.7 with SE 1.1 and lower and upper confidence intervals as: 1.18.5.\n",
      "\tin year 2008 percent is, 12.6 with SE 1.2 and lower and upper confidence intervals as: 1.210.2.\n",
      "\tin year 2009 percent is, 8.6 with SE 1 and lower and upper confidence intervals as: 16.5.\n",
      "\tin year 2010 percent is, 7.7 with SE 1 and lower and upper confidence intervals as: 15.8.\n",
      "\tin year 2011 percent is, 5.6 with SE 0.8 and lower and upper confidence intervals as: 0.83.9.\n",
      "\tin year 2012 percent is, 8.7 with SE 1 and lower and upper confidence intervals as: 16.7.\n",
      "\tin year 2013 percent is, 7.6 with SE 1 and lower and upper confidence intervals as: 15.8.\n",
      "\tin year 2014 percent is, 9 with SE 1.1 and lower and upper confidence intervals as: 1.16.9.\n",
      "\tin year 2015 percent is, 7.6 with SE 1 and lower and upper confidence intervals as: 15.7.\n",
      "\tin year 2016 percent is, 10.3 with SE 1.1 and lower and upper confidence intervals as: 1.18.2.\n",
      "\tin year 2017 percent is, 5.7 with SE 0.8 and lower and upper confidence intervals as: 0.84.1.\n",
      "\tin year 2018 percent is, 5.4 with SE 0.8 and lower and upper confidence intervals as: 0.83.8.\n",
      "Processed 23 lines.\n"
     ]
    }
   ],
   "source": [
    "\n",
    "import csv\n",
    "\n",
    "with open('TSTY.csv') as csv_file:\n",
    "    csv_reader = csv.reader(csv_file, delimiter=',')\n",
    "    line_count = 0\n",
    "    for row in csv_reader: #loop-control variable is row\n",
    "        if line_count == 0:\n",
    "            print(f'Column headers are {\"__ \".join(row)}')\n",
    "            line_count = line_count+ 1\n",
    "        else:\n",
    "            print(f'\\tin year {row[0]} percent is, {row[1]} with SE {row[2]} and lower and upper confidence intervals as: {row[2]}{row[3]}.')\n",
    "            line_count += 1\n",
    "    print(f'Processed {line_count} lines.')"
   ]
  },
  {
   "cell_type": "code",
   "execution_count": 2,
   "metadata": {},
   "outputs": [
    {
     "name": "stdout",
     "output_type": "stream",
     "text": [
      "    YEAR  PERCENT   SE  LOWER95  UPPER95\n",
      "0   1997     21.7  1.9     17.9     25.5\n",
      "1   1998     13.1  1.6     10.0     16.2\n",
      "2   1999     16.9  1.8     13.5     20.4\n",
      "3   2000     12.5  1.3     10.1     15.0\n",
      "4   2001     17.1  1.5     14.2     20.0\n",
      "5   2002     19.3  1.6     16.2     22.5\n",
      "6   2003     12.2  1.7      8.9     15.5\n",
      "7   2004     14.0  1.3     11.5     16.5\n",
      "8   2005     10.2  1.1      8.0     12.4\n",
      "9   2006     13.2  1.3     10.6     15.8\n",
      "10  2007     10.7  1.1      8.5     12.9\n",
      "11  2008     12.6  1.2     10.2     15.0\n",
      "12  2009      8.6  1.0      6.5     10.6\n",
      "13  2010      7.7  1.0      5.8      9.6\n",
      "14  2011      5.6  0.8      3.9      7.2\n",
      "15  2012      8.7  1.0      6.7     10.8\n",
      "16  2013      7.6  1.0      5.8      9.5\n",
      "17  2014      9.0  1.1      6.9     11.0\n",
      "18  2015      7.6  1.0      5.7      9.6\n",
      "19  2016     10.3  1.1      8.2     12.5\n",
      "20  2017      5.7  0.8      4.1      7.4\n",
      "21  2018      5.4  0.8      3.8      7.0\n"
     ]
    }
   ],
   "source": [
    "import csv\n",
    "import pandas\n",
    "df = pandas.read_csv('TSTY.csv')\n",
    "print(df)"
   ]
  },
  {
   "cell_type": "code",
   "execution_count": null,
   "metadata": {},
   "outputs": [],
   "source": [
    "# A minimum of 5 variables in your dataset used during your analysis (for help with selecting,\n",
    "# the author made his selection on page 6 of your book).\n",
    "# Consider what you think could have an impact on your question – remember this is never\n",
    "# perfect, so don’t be worried if you miss one (Chapter 1).\n",
    "\n",
    "# Solution\n",
    "# The 5 variables are YEAR, PERCENT, SE, LOWER95, UPPER95."
   ]
  },
  {
   "cell_type": "code",
   "execution_count": null,
   "metadata": {},
   "outputs": [],
   "source": [
    "# Describe what the 5 variables mean in the dataset (Chapter 1).\n",
    "\n",
    "# Solution\n",
    "\n",
    "# The TSTY dataset was an annual survey that is conducted to gauge the rate of illegal tobacco sales to youth\n",
    "# under the age of 18 across California, in accordance with California’s Stop Tobacco Access to Kids \n",
    "# Enforcement Act (STAKE Act) and the federal Synar Amendment. Licensed tobacco retailers that are \n",
    "# accessible to minors under the age of 18 throughout California are randomly selected for the survey.\n",
    "\n",
    "# In the data set, variable YEAR represents a range of data collection from 1997-2018 of companies that sold\n",
    "# tobacco to youth.\n",
    "# Variable percent represents the percentage for each year.\n",
    "# LOWER95 gives a range of number of youth that are below 95 from 1797-2018.\n",
    "# UPPER95 gives a range of number of youth that fall above 95."
   ]
  },
  {
   "cell_type": "code",
   "execution_count": null,
   "metadata": {},
   "outputs": [],
   "source": [
    "# Include a histogram of each of the 5 variables – in your summary and analysis, identify any outliers and explain the\n",
    "# reasoning for them being outliers and how you believe they should be handled (Chapter 2).\n",
    "\n",
    "# Solution"
   ]
  },
  {
   "cell_type": "code",
   "execution_count": 4,
   "metadata": {},
   "outputs": [
    {
     "data": {
      "image/png": "[encoded data removed]",
      "text/plain": [
       "<Figure size 432x288 with 1 Axes>"
      ]
     },
     "metadata": {
      "needs_background": "light"
     },
     "output_type": "display_data"
    }
   ],
   "source": [
    "import matplotlib.pyplot as plt                  \n",
    "import numpy as np\n",
    "n, bins, patches = plt.hist(x=df['LOWER95'], bins='auto', color='#0504aa',\n",
    "                            alpha=0.7, rwidth=0.85)\n",
    "plt.grid(axis='y', alpha=0.75)\n",
    "plt.xlabel('Lower95')\n",
    "plt.ylabel('Frequency')\n",
    "plt.title('Histogram of LOWER95')\n",
    "plt.text(10, 5, r'$\\mu=15, b=3$')\n",
    "maxfreq = n.max()                  \n",
    "                  "
   ]
  },
  {
   "cell_type": "code",
   "execution_count": 5,
   "metadata": {},
   "outputs": [
    {
     "data": {
      "image/png": "[encoded data removed]",
      "text/plain": [
       "<Figure size 432x288 with 1 Axes>"
      ]
     },
     "metadata": {
      "needs_background": "light"
     },
     "output_type": "display_data"
    }
   ],
   "source": [
    "import matplotlib.pyplot as plt                  \n",
    "import numpy as np\n",
    "n, bins, patches = plt.hist(x=df['SE'], bins='auto', color='#0504aa',\n",
    "                            alpha=0.7, rwidth=0.85)\n",
    "plt.grid(axis='y', alpha=0.75)\n",
    "plt.xlabel('SE')\n",
    "plt.ylabel('Frequency')\n",
    "plt.title('Histogram of SE')\n",
    "plt.text(3, 5, r'$\\mu=15, b=3$')\n",
    "maxfreq = n.max()   \n"
   ]
  },
  {
   "cell_type": "code",
   "execution_count": 6,
   "metadata": {},
   "outputs": [
    {
     "data": {
      "image/png": "[encoded data removed]",
      "text/plain": [
       "<Figure size 432x288 with 1 Axes>"
      ]
     },
     "metadata": {
      "needs_background": "light"
     },
     "output_type": "display_data"
    }
   ],
   "source": [
    "import matplotlib.pyplot as plt                  \n",
    "import numpy as np\n",
    "n, bins, patches = plt.hist(x=df['PERCENT'], bins='auto', color='#0504aa',\n",
    "                            alpha=0.7, rwidth=0.85)\n",
    "plt.grid(axis='y', alpha=0.75)\n",
    "plt.xlabel('PERCENT')\n",
    "plt.ylabel('Frequency')\n",
    "plt.title('Histogram of PERCENT')\n",
    "plt.text(3, 5, r'$\\mu=15, b=3$')\n",
    "maxfreq = n.max()  "
   ]
  },
  {
   "cell_type": "code",
   "execution_count": 7,
   "metadata": {},
   "outputs": [
    {
     "data": {
      "image/png": "[encoded data removed]",
      "text/plain": [
       "<Figure size 432x288 with 1 Axes>"
      ]
     },
     "metadata": {
      "needs_background": "light"
     },
     "output_type": "display_data"
    }
   ],
   "source": [
    "import matplotlib.pyplot as plt                  \n",
    "import numpy as np\n",
    "n, bins, patches = plt.hist(x=df['UPPER95'], bins='auto', color='#0504aa',\n",
    "                            alpha=0.7, rwidth=0.85)\n",
    "plt.grid(axis='y', alpha=0.75)\n",
    "plt.xlabel('UPPER95')\n",
    "plt.ylabel('Frequency')\n",
    "plt.title('Histogram of UPPER95')\n",
    "plt.text(10, 5, r'$\\mu=15, b=3$')\n",
    "maxfreq = n.max()   "
   ]
  },
  {
   "cell_type": "code",
   "execution_count": null,
   "metadata": {},
   "outputs": [],
   "source": [
    "# Include the other descriptive characteristics about the variables: Mean, Mode, Spread, and Tails (Chapter 2).\n",
    "\n",
    "# Solution"
   ]
  },
  {
   "cell_type": "code",
   "execution_count": 8,
   "metadata": {},
   "outputs": [
    {
     "name": "stdout",
     "output_type": "stream",
     "text": [
      "<class 'pandas.core.frame.DataFrame'>\n",
      "RangeIndex: 22 entries, 0 to 21\n",
      "Data columns (total 5 columns):\n",
      "YEAR       22 non-null int64\n",
      "PERCENT    22 non-null float64\n",
      "SE         22 non-null float64\n",
      "LOWER95    22 non-null float64\n",
      "UPPER95    22 non-null float64\n",
      "dtypes: float64(4), int64(1)\n",
      "memory usage: 960.0 bytes\n"
     ]
    }
   ],
   "source": [
    "df.info()"
   ]
  },
  {
   "cell_type": "code",
   "execution_count": 9,
   "metadata": {},
   "outputs": [
    {
     "data": {
      "text/plain": [
       "YEAR       2007.500000\n",
       "PERCENT      11.350000\n",
       "SE            1.227273\n",
       "LOWER95       8.954545\n",
       "UPPER95      13.768182\n",
       "dtype: float64"
      ]
     },
     "execution_count": 9,
     "metadata": {},
     "output_type": "execute_result"
    }
   ],
   "source": [
    "df.mean()"
   ]
  },
  {
   "cell_type": "code",
   "execution_count": 16,
   "metadata": {},
   "outputs": [
    {
     "data": {
      "text/plain": [
       "YEAR       21.0\n",
       "PERCENT    16.3\n",
       "SE          1.1\n",
       "LOWER95    14.1\n",
       "UPPER95    18.5\n",
       "dtype: float64"
      ]
     },
     "execution_count": 16,
     "metadata": {},
     "output_type": "execute_result"
    }
   ],
   "source": [
    "# tHIS IS THE RANGE.\n",
    "df.max(axis = 0) - df.min(axis = 0)"
   ]
  },
  {
   "cell_type": "code",
   "execution_count": 13,
   "metadata": {},
   "outputs": [
    {
     "data": {
      "text/plain": [
       "YEAR       1997.0\n",
       "PERCENT       7.6\n",
       "SE            1.0\n",
       "LOWER95       5.8\n",
       "UPPER95       9.6\n",
       "Name: 0, dtype: float64"
      ]
     },
     "execution_count": 13,
     "metadata": {},
     "output_type": "execute_result"
    }
   ],
   "source": [
    "df.mode().iloc[0,:]"
   ]
  },
  {
   "cell_type": "code",
   "execution_count": 17,
   "metadata": {},
   "outputs": [
    {
     "data": {
      "text/plain": [
       "YEAR       6.493587\n",
       "PERCENT    4.451297\n",
       "SE         0.326864\n",
       "LOWER95    3.885471\n",
       "UPPER95    5.040067\n",
       "dtype: float64"
      ]
     },
     "execution_count": 17,
     "metadata": {},
     "output_type": "execute_result"
    }
   ],
   "source": [
    "# This the standard deviation\n",
    "df.std()"
   ]
  },
  {
   "cell_type": "code",
   "execution_count": 18,
   "metadata": {},
   "outputs": [
    {
     "data": {
      "text/plain": [
       "YEAR       42.166667\n",
       "PERCENT    19.814048\n",
       "SE          0.106840\n",
       "LOWER95    15.096883\n",
       "UPPER95    25.402273\n",
       "dtype: float64"
      ]
     },
     "execution_count": 18,
     "metadata": {},
     "output_type": "execute_result"
    }
   ],
   "source": [
    "#This the variance\n",
    "df.std()**2"
   ]
  },
  {
   "cell_type": "code",
   "execution_count": 21,
   "metadata": {},
   "outputs": [
    {
     "data": {
      "text/html": [
       "<div>\n",
       "<style scoped>\n",
       "    .dataframe tbody tr th:only-of-type {\n",
       "        vertical-align: middle;\n",
       "    }\n",
       "\n",
       "    .dataframe tbody tr th {\n",
       "        vertical-align: top;\n",
       "    }\n",
       "\n",
       "    .dataframe thead th {\n",
       "        text-align: right;\n",
       "    }\n",
       "</style>\n",
       "<table border=\"1\" class=\"dataframe\">\n",
       "  <thead>\n",
       "    <tr style=\"text-align: right;\">\n",
       "      <th></th>\n",
       "      <th>YEAR</th>\n",
       "      <th>PERCENT</th>\n",
       "      <th>SE</th>\n",
       "      <th>LOWER95</th>\n",
       "      <th>UPPER95</th>\n",
       "    </tr>\n",
       "  </thead>\n",
       "  <tbody>\n",
       "    <tr>\n",
       "      <th>0.00</th>\n",
       "      <td>1997.00</td>\n",
       "      <td>5.400</td>\n",
       "      <td>0.80</td>\n",
       "      <td>3.800</td>\n",
       "      <td>7.00</td>\n",
       "    </tr>\n",
       "    <tr>\n",
       "      <th>0.25</th>\n",
       "      <td>2002.25</td>\n",
       "      <td>7.925</td>\n",
       "      <td>1.00</td>\n",
       "      <td>5.975</td>\n",
       "      <td>9.85</td>\n",
       "    </tr>\n",
       "    <tr>\n",
       "      <th>0.50</th>\n",
       "      <td>2007.50</td>\n",
       "      <td>10.500</td>\n",
       "      <td>1.10</td>\n",
       "      <td>8.350</td>\n",
       "      <td>12.70</td>\n",
       "    </tr>\n",
       "    <tr>\n",
       "      <th>0.75</th>\n",
       "      <td>2012.75</td>\n",
       "      <td>13.175</td>\n",
       "      <td>1.45</td>\n",
       "      <td>10.500</td>\n",
       "      <td>16.10</td>\n",
       "    </tr>\n",
       "    <tr>\n",
       "      <th>1.00</th>\n",
       "      <td>2018.00</td>\n",
       "      <td>21.700</td>\n",
       "      <td>1.90</td>\n",
       "      <td>17.900</td>\n",
       "      <td>25.50</td>\n",
       "    </tr>\n",
       "  </tbody>\n",
       "</table>\n",
       "</div>"
      ],
      "text/plain": [
       "         YEAR  PERCENT    SE  LOWER95  UPPER95\n",
       "0.00  1997.00    5.400  0.80    3.800     7.00\n",
       "0.25  2002.25    7.925  1.00    5.975     9.85\n",
       "0.50  2007.50   10.500  1.10    8.350    12.70\n",
       "0.75  2012.75   13.175  1.45   10.500    16.10\n",
       "1.00  2018.00   21.700  1.90   17.900    25.50"
      ]
     },
     "execution_count": 21,
     "metadata": {},
     "output_type": "execute_result"
    }
   ],
   "source": [
    "df.quantile([0,.25,.5,.75,1])"
   ]
  },
  {
   "cell_type": "code",
   "execution_count": null,
   "metadata": {},
   "outputs": [],
   "source": [
    "# Using pg. 29 of your text as an example, compare two scenarios in your data using a PMF. Reminder, this isn’t comparing\n",
    "# two variables against each other – it is the same variable, but a different scenario. Almost like a filter.\n",
    "# The example in the book is first babies compared to all other babies, it is still the same variable, but breaking the\n",
    "#  data out based on criteria we are exploring (Chapter 3).\n",
    "\n",
    "# Solution\n"
   ]
  },
  {
   "cell_type": "code",
   "execution_count": 22,
   "metadata": {},
   "outputs": [
    {
     "name": "stdout",
     "output_type": "stream",
     "text": [
      "    YEAR  PERCENT   SE  LOWER95  UPPER95\n",
      "0   1997     21.7  1.9     17.9     25.5\n",
      "1   1998     13.1  1.6     10.0     16.2\n",
      "2   1999     16.9  1.8     13.5     20.4\n",
      "3   2000     12.5  1.3     10.1     15.0\n",
      "4   2001     17.1  1.5     14.2     20.0\n",
      "5   2002     19.3  1.6     16.2     22.5\n",
      "6   2003     12.2  1.7      8.9     15.5\n",
      "7   2004     14.0  1.3     11.5     16.5\n",
      "8   2005     10.2  1.1      8.0     12.4\n",
      "9   2006     13.2  1.3     10.6     15.8\n",
      "10  2007     10.7  1.1      8.5     12.9\n",
      "11  2008     12.6  1.2     10.2     15.0\n",
      "12  2009      8.6  1.0      6.5     10.6\n",
      "13  2010      7.7  1.0      5.8      9.6\n",
      "14  2011      5.6  0.8      3.9      7.2\n",
      "15  2012      8.7  1.0      6.7     10.8\n",
      "16  2013      7.6  1.0      5.8      9.5\n",
      "17  2014      9.0  1.1      6.9     11.0\n",
      "18  2015      7.6  1.0      5.7      9.6\n",
      "19  2016     10.3  1.1      8.2     12.5\n",
      "20  2017      5.7  0.8      4.1      7.4\n",
      "21  2018      5.4  0.8      3.8      7.0\n"
     ]
    }
   ],
   "source": [
    "print(df)"
   ]
  },
  {
   "cell_type": "code",
   "execution_count": 23,
   "metadata": {},
   "outputs": [],
   "source": [
    "df1 = df.iloc[0:11,:]"
   ]
  },
  {
   "cell_type": "code",
   "execution_count": 24,
   "metadata": {},
   "outputs": [
    {
     "name": "stdout",
     "output_type": "stream",
     "text": [
      "    YEAR  PERCENT   SE  LOWER95  UPPER95\n",
      "0   1997     21.7  1.9     17.9     25.5\n",
      "1   1998     13.1  1.6     10.0     16.2\n",
      "2   1999     16.9  1.8     13.5     20.4\n",
      "3   2000     12.5  1.3     10.1     15.0\n",
      "4   2001     17.1  1.5     14.2     20.0\n",
      "5   2002     19.3  1.6     16.2     22.5\n",
      "6   2003     12.2  1.7      8.9     15.5\n",
      "7   2004     14.0  1.3     11.5     16.5\n",
      "8   2005     10.2  1.1      8.0     12.4\n",
      "9   2006     13.2  1.3     10.6     15.8\n",
      "10  2007     10.7  1.1      8.5     12.9\n"
     ]
    }
   ],
   "source": [
    "print(df1)"
   ]
  },
  {
   "cell_type": "code",
   "execution_count": 25,
   "metadata": {},
   "outputs": [],
   "source": [
    "df2 = df.iloc[11:,:]"
   ]
  },
  {
   "cell_type": "code",
   "execution_count": 27,
   "metadata": {},
   "outputs": [
    {
     "name": "stdout",
     "output_type": "stream",
     "text": [
      "    YEAR  PERCENT   SE  LOWER95  UPPER95\n",
      "11  2008     12.6  1.2     10.2     15.0\n",
      "12  2009      8.6  1.0      6.5     10.6\n",
      "13  2010      7.7  1.0      5.8      9.6\n",
      "14  2011      5.6  0.8      3.9      7.2\n",
      "15  2012      8.7  1.0      6.7     10.8\n",
      "16  2013      7.6  1.0      5.8      9.5\n",
      "17  2014      9.0  1.1      6.9     11.0\n",
      "18  2015      7.6  1.0      5.7      9.6\n",
      "19  2016     10.3  1.1      8.2     12.5\n",
      "20  2017      5.7  0.8      4.1      7.4\n",
      "21  2018      5.4  0.8      3.8      7.0\n"
     ]
    }
   ],
   "source": [
    "print(df2)"
   ]
  },
  {
   "cell_type": "code",
   "execution_count": 36,
   "metadata": {},
   "outputs": [],
   "source": [
    "from matplotlib import pyplot as plt\n",
    "import matplotlib\n",
    "%matplotlib inline"
   ]
  },
  {
   "cell_type": "code",
   "execution_count": 43,
   "metadata": {},
   "outputs": [
    {
     "data": {
      "image/png": "[encoded data removed]",
      "text/plain": [
       "<Figure size 432x288 with 1 Axes>"
      ]
     },
     "metadata": {
      "needs_background": "light"
     },
     "output_type": "display_data"
    }
   ],
   "source": [
    "_=plt.hist(df1.PERCENT,density = True)"
   ]
  },
  {
   "cell_type": "code",
   "execution_count": 44,
   "metadata": {},
   "outputs": [
    {
     "data": {
      "image/png": "[encoded data removed]",
      "text/plain": [
       "<Figure size 432x288 with 1 Axes>"
      ]
     },
     "metadata": {
      "needs_background": "light"
     },
     "output_type": "display_data"
    }
   ],
   "source": [
    "_=plt.hist(df2.PERCENT,density = True)"
   ]
  },
  {
   "cell_type": "code",
   "execution_count": 34,
   "metadata": {},
   "outputs": [
    {
     "data": {
      "image/png": "[encoded data removed]",
      "text/plain": [
       "<Figure size 432x288 with 1 Axes>"
      ]
     },
     "metadata": {
      "needs_background": "light"
     },
     "output_type": "display_data"
    }
   ],
   "source": [
    "pmf1 = (df1.PERCENT/df1.PERCENT.sum()).hist()"
   ]
  },
  {
   "cell_type": "code",
   "execution_count": 35,
   "metadata": {},
   "outputs": [
    {
     "data": {
      "text/plain": [
       "<bound method hist_series of 0     21.7\n",
       "1     13.1\n",
       "2     16.9\n",
       "3     12.5\n",
       "4     17.1\n",
       "5     19.3\n",
       "6     12.2\n",
       "7     14.0\n",
       "8     10.2\n",
       "9     13.2\n",
       "10    10.7\n",
       "Name: PERCENT, dtype: float64>"
      ]
     },
     "execution_count": 35,
     "metadata": {},
     "output_type": "execute_result"
    }
   ],
   "source": [
    "df1.PERCENT.hist"
   ]
  },
  {
   "cell_type": "code",
   "execution_count": null,
   "metadata": {},
   "outputs": [],
   "source": [
    "# Create 1 CDF with one of your variables, using page 41-44 as your guide, what does this tell you about your variable and\n",
    "# how does it address the question you are trying to answer (Chapter 4).\n",
    "\n",
    "# Solution"
   ]
  },
  {
   "cell_type": "code",
   "execution_count": 48,
   "metadata": {},
   "outputs": [
    {
     "data": {
      "image/png": "[encoded data removed]",
      "text/plain": [
       "<Figure size 432x288 with 1 Axes>"
      ]
     },
     "metadata": {
      "needs_background": "light"
     },
     "output_type": "display_data"
    }
   ],
   "source": [
    "_=plt.hist(df.PERCENT,cumulative = True, density = True)"
   ]
  },
  {
   "cell_type": "code",
   "execution_count": null,
   "metadata": {},
   "outputs": [],
   "source": [
    "# Plot 1 analytical distribution and provide your analysis on how it applies to the dataset you have chosen (Chapter 5).\n",
    "\n",
    "# Solution"
   ]
  },
  {
   "cell_type": "code",
   "execution_count": 60,
   "metadata": {},
   "outputs": [
    {
     "data": {
      "image/png": "[encoded data removed]",
      "text/plain": [
       "<Figure size 432x288 with 1 Axes>"
      ]
     },
     "metadata": {
      "needs_background": "light"
     },
     "output_type": "display_data"
    }
   ],
   "source": [
    "mu = 1\n",
    "std = 1\n",
    "s = np.random.lognormal(mu, std, 22)\n",
    "_ = plt.hist(s, density = True)"
   ]
  },
  {
   "cell_type": "code",
   "execution_count": 49,
   "metadata": {},
   "outputs": [
    {
     "data": {
      "text/plain": [
       "(array([0.08365867, 0.1115449 , 0.08365867, 0.05577245, 0.13943112,\n",
       "        0.02788622, 0.        , 0.05577245, 0.02788622, 0.02788622]),\n",
       " array([ 5.4 ,  7.03,  8.66, 10.29, 11.92, 13.55, 15.18, 16.81, 18.44,\n",
       "        20.07, 21.7 ]),\n",
       " <a list of 10 Patch objects>)"
      ]
     },
     "execution_count": 49,
     "metadata": {},
     "output_type": "execute_result"
    },
    {
     "data": {
      "image/png": "[encoded data removed]",
      "text/plain": [
       "<Figure size 432x288 with 1 Axes>"
      ]
     },
     "metadata": {
      "needs_background": "light"
     },
     "output_type": "display_data"
    }
   ],
   "source": [
    "plt.hist(df.PERCENT, density = True)"
   ]
  },
  {
   "cell_type": "code",
   "execution_count": null,
   "metadata": {},
   "outputs": [],
   "source": [
    "# Create two scatter plots comparing two variables and provide your analysis on correlation and causation. Remember,\n",
    "# covariance, Pearson’s correlation, and Non-Linear Relationships should also be considered during your analysis\n",
    "# (Chapter 7).\n",
    "\n",
    "# Solution"
   ]
  },
  {
   "cell_type": "code",
   "execution_count": 61,
   "metadata": {},
   "outputs": [
    {
     "data": {
      "text/plain": [
       "<matplotlib.collections.PathCollection at 0x150f862b978>"
      ]
     },
     "execution_count": 61,
     "metadata": {},
     "output_type": "execute_result"
    },
    {
     "data": {
      "image/png": "[encoded data removed]",
      "text/plain": [
       "<Figure size 432x288 with 1 Axes>"
      ]
     },
     "metadata": {
      "needs_background": "light"
     },
     "output_type": "display_data"
    }
   ],
   "source": [
    "plt.scatter(df.LOWER95, df.UPPER95)"
   ]
  },
  {
   "cell_type": "code",
   "execution_count": null,
   "metadata": {},
   "outputs": [],
   "source": [
    "# Conduct a test on your hypothesis using one of the methods covered in Chapter 9.\n",
    "\n",
    "# Solution\n",
    "#Pearson Correlation\n",
    "#The Pearson’s correlation test was conducted by comparing variables lower95 and \n",
    "#upper95 from the dataset. The correlation test returns a value of 0.9938. This indicates that a \n",
    "#strong correlation exists between the 2 variables"
   ]
  },
  {
   "cell_type": "code",
   "execution_count": 65,
   "metadata": {},
   "outputs": [
    {
     "data": {
      "text/plain": [
       "0.9938832124881953"
      ]
     },
     "execution_count": 65,
     "metadata": {},
     "output_type": "execute_result"
    }
   ],
   "source": [
    "from scipy import stats\n",
    "df.LOWER95.corr(df.UPPER95,method = \"pearson\")"
   ]
  },
  {
   "cell_type": "code",
   "execution_count": 66,
   "metadata": {},
   "outputs": [
    {
     "data": {
      "text/plain": [
       "(0.9938832124881952, 1.2901819611438594e-20)"
      ]
     },
     "execution_count": 66,
     "metadata": {},
     "output_type": "execute_result"
    }
   ],
   "source": [
    "corr = stats.pearsonr(df.LOWER95, df.UPPER95)\n",
    "corr"
   ]
  },
  {
   "cell_type": "code",
   "execution_count": null,
   "metadata": {},
   "outputs": [],
   "source": [
    "# For this project, conduct a regression analysis on either one dependent and one explanatory variable, or multiple\n",
    "# explanatory variables (Chapter 10 & 11).\n",
    "\n",
    "# Solution\n",
    "# Regression has a p-value of 0.032, which is very small. This indicates that the regression favors the \n",
    "#empirical hypothesis over the null hypothesis."
   ]
  },
  {
   "cell_type": "code",
   "execution_count": 69,
   "metadata": {},
   "outputs": [
    {
     "name": "stdout",
     "output_type": "stream",
     "text": [
      "1.2892228549799565 2.223777162224934 0.9938832124881953 1.2901819611436277e-20 0.032032379307858204\n"
     ]
    }
   ],
   "source": [
    "slope, intercept, rvalue, pvalue, stderror = stats.linregress(df.LOWER95, df.UPPER95)\n",
    "print(slope, intercept, rvalue, pvalue, stderror)"
   ]
  },
  {
   "cell_type": "code",
   "execution_count": null,
   "metadata": {},
   "outputs": [],
   "source": [
    "# Your code or screenshots of your code\n",
    "# A 250-500-word paper summarizing the following:\n",
    "# Statistical/Hypothetical Question\n",
    "# Outcome of your EDA\n",
    "# What do you feel was missed during the analysis?\n",
    "# Were there any variables you felt could have helped in the analysis?\n",
    "# Were there any assumptions made you felt were incorrect?\n",
    "# What challenges did you face, what did you not fully understand?\n",
    "# Submit a link to your repository to the assignment link during the final week of class."
   ]
  }
 ],
 "metadata": {
  "kernelspec": {
   "display_name": "Python 3",
   "language": "python",
   "name": "python3"
  },
  "language_info": {
   "codemirror_mode": {
    "name": "ipython",
    "version": 3
   },
   "file_extension": ".py",
   "mimetype": "text/x-python",
   "name": "python",
   "nbconvert_exporter": "python",
   "pygments_lexer": "ipython3",
   "version": "3.7.3"
  }
 },
 "nbformat": 4,
 "nbformat_minor": 2
}
